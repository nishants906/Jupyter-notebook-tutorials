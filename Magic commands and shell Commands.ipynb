{
 "cells": [
  {
   "cell_type": "markdown",
   "metadata": {},
   "source": [
    "# Magic Commands"
   ]
  },
  {
   "cell_type": "code",
   "execution_count": 1,
   "metadata": {},
   "outputs": [
    {
     "data": {
      "application/json": {
       "cell": {
        "!": "OSMagics",
        "HTML": "Other",
        "SVG": "Other",
        "bash": "Other",
        "capture": "ExecutionMagics",
        "debug": "ExecutionMagics",
        "file": "Other",
        "html": "DisplayMagics",
        "javascript": "DisplayMagics",
        "js": "DisplayMagics",
        "latex": "DisplayMagics",
        "markdown": "DisplayMagics",
        "perl": "Other",
        "prun": "ExecutionMagics",
        "pypy": "Other",
        "python": "Other",
        "python2": "Other",
        "python3": "Other",
        "ruby": "Other",
        "script": "ScriptMagics",
        "sh": "Other",
        "svg": "DisplayMagics",
        "sx": "OSMagics",
        "system": "OSMagics",
        "time": "ExecutionMagics",
        "timeit": "ExecutionMagics",
        "writefile": "OSMagics"
       },
       "line": {
        "alias": "OSMagics",
        "alias_magic": "BasicMagics",
        "autoawait": "AsyncMagics",
        "autocall": "AutoMagics",
        "automagic": "AutoMagics",
        "autosave": "KernelMagics",
        "bookmark": "OSMagics",
        "cat": "Other",
        "cd": "OSMagics",
        "clear": "KernelMagics",
        "colors": "BasicMagics",
        "conda": "PackagingMagics",
        "config": "ConfigMagics",
        "connect_info": "KernelMagics",
        "cp": "Other",
        "debug": "ExecutionMagics",
        "dhist": "OSMagics",
        "dirs": "OSMagics",
        "doctest_mode": "BasicMagics",
        "ed": "Other",
        "edit": "KernelMagics",
        "env": "OSMagics",
        "gui": "BasicMagics",
        "hist": "Other",
        "history": "HistoryMagics",
        "killbgscripts": "ScriptMagics",
        "ldir": "Other",
        "less": "KernelMagics",
        "lf": "Other",
        "lk": "Other",
        "ll": "Other",
        "load": "CodeMagics",
        "load_ext": "ExtensionMagics",
        "loadpy": "CodeMagics",
        "logoff": "LoggingMagics",
        "logon": "LoggingMagics",
        "logstart": "LoggingMagics",
        "logstate": "LoggingMagics",
        "logstop": "LoggingMagics",
        "ls": "Other",
        "lsmagic": "BasicMagics",
        "lx": "Other",
        "macro": "ExecutionMagics",
        "magic": "BasicMagics",
        "man": "KernelMagics",
        "matplotlib": "PylabMagics",
        "mkdir": "Other",
        "more": "KernelMagics",
        "mv": "Other",
        "notebook": "BasicMagics",
        "page": "BasicMagics",
        "pastebin": "CodeMagics",
        "pdb": "ExecutionMagics",
        "pdef": "NamespaceMagics",
        "pdoc": "NamespaceMagics",
        "pfile": "NamespaceMagics",
        "pinfo": "NamespaceMagics",
        "pinfo2": "NamespaceMagics",
        "pip": "PackagingMagics",
        "popd": "OSMagics",
        "pprint": "BasicMagics",
        "precision": "BasicMagics",
        "prun": "ExecutionMagics",
        "psearch": "NamespaceMagics",
        "psource": "NamespaceMagics",
        "pushd": "OSMagics",
        "pwd": "OSMagics",
        "pycat": "OSMagics",
        "pylab": "PylabMagics",
        "qtconsole": "KernelMagics",
        "quickref": "BasicMagics",
        "recall": "HistoryMagics",
        "rehashx": "OSMagics",
        "reload_ext": "ExtensionMagics",
        "rep": "Other",
        "rerun": "HistoryMagics",
        "reset": "NamespaceMagics",
        "reset_selective": "NamespaceMagics",
        "rm": "Other",
        "rmdir": "Other",
        "run": "ExecutionMagics",
        "save": "CodeMagics",
        "sc": "OSMagics",
        "set_env": "OSMagics",
        "store": "StoreMagics",
        "sx": "OSMagics",
        "system": "OSMagics",
        "tb": "ExecutionMagics",
        "time": "ExecutionMagics",
        "timeit": "ExecutionMagics",
        "unalias": "OSMagics",
        "unload_ext": "ExtensionMagics",
        "who": "NamespaceMagics",
        "who_ls": "NamespaceMagics",
        "whos": "NamespaceMagics",
        "xdel": "NamespaceMagics",
        "xmode": "BasicMagics"
       }
      },
      "text/plain": [
       "Available line magics:\n",
       "%alias  %alias_magic  %autoawait  %autocall  %automagic  %autosave  %bookmark  %cat  %cd  %clear  %colors  %conda  %config  %connect_info  %cp  %debug  %dhist  %dirs  %doctest_mode  %ed  %edit  %env  %gui  %hist  %history  %killbgscripts  %ldir  %less  %lf  %lk  %ll  %load  %load_ext  %loadpy  %logoff  %logon  %logstart  %logstate  %logstop  %ls  %lsmagic  %lx  %macro  %magic  %man  %matplotlib  %mkdir  %more  %mv  %notebook  %page  %pastebin  %pdb  %pdef  %pdoc  %pfile  %pinfo  %pinfo2  %pip  %popd  %pprint  %precision  %prun  %psearch  %psource  %pushd  %pwd  %pycat  %pylab  %qtconsole  %quickref  %recall  %rehashx  %reload_ext  %rep  %rerun  %reset  %reset_selective  %rm  %rmdir  %run  %save  %sc  %set_env  %store  %sx  %system  %tb  %time  %timeit  %unalias  %unload_ext  %who  %who_ls  %whos  %xdel  %xmode\n",
       "\n",
       "Available cell magics:\n",
       "%%!  %%HTML  %%SVG  %%bash  %%capture  %%debug  %%file  %%html  %%javascript  %%js  %%latex  %%markdown  %%perl  %%prun  %%pypy  %%python  %%python2  %%python3  %%ruby  %%script  %%sh  %%svg  %%sx  %%system  %%time  %%timeit  %%writefile\n",
       "\n",
       "Automagic is ON, % prefix IS NOT needed for line magics."
      ]
     },
     "execution_count": 1,
     "metadata": {},
     "output_type": "execute_result"
    }
   ],
   "source": [
    "%lsmagic"
   ]
  },
  {
   "cell_type": "code",
   "execution_count": 2,
   "metadata": {},
   "outputs": [],
   "source": [
    "%magic"
   ]
  },
  {
   "cell_type": "markdown",
   "metadata": {},
   "source": [
    "# shell commands"
   ]
  },
  {
   "cell_type": "code",
   "execution_count": 3,
   "metadata": {},
   "outputs": [
    {
     "name": "stdout",
     "output_type": "stream",
     "text": [
      "/Users/devil/Desktop\r\n"
     ]
    }
   ],
   "source": [
    "!pwd"
   ]
  },
  {
   "cell_type": "code",
   "execution_count": 4,
   "metadata": {},
   "outputs": [
    {
     "data": {
      "text/plain": [
       "['/Users/devil/Desktop']"
      ]
     },
     "execution_count": 4,
     "metadata": {},
     "output_type": "execute_result"
    }
   ],
   "source": [
    "%system pwd"
   ]
  },
  {
   "cell_type": "code",
   "execution_count": 5,
   "metadata": {},
   "outputs": [
    {
     "data": {
      "text/plain": [
       "['Requirement already satisfied: jupyter in /usr/local/lib/python3.7/site-packages (1.0.0)',\n",
       " 'Requirement already satisfied: notebook in /usr/local/lib/python3.7/site-packages (from jupyter) (6.0.3)',\n",
       " 'Requirement already satisfied: jupyter-console in /usr/local/lib/python3.7/site-packages (from jupyter) (6.1.0)',\n",
       " 'Requirement already satisfied: qtconsole in /usr/local/lib/python3.7/site-packages (from jupyter) (4.7.4)',\n",
       " 'Requirement already satisfied: ipywidgets in /usr/local/lib/python3.7/site-packages (from jupyter) (7.5.1)',\n",
       " 'Requirement already satisfied: ipykernel in /usr/local/lib/python3.7/site-packages (from jupyter) (5.2.1)',\n",
       " 'Requirement already satisfied: nbconvert in /usr/local/lib/python3.7/site-packages (from jupyter) (5.6.1)',\n",
       " 'Requirement already satisfied: jupyter-core>=4.6.1 in /usr/local/lib/python3.7/site-packages (from notebook->jupyter) (4.6.3)',\n",
       " 'Requirement already satisfied: traitlets>=4.2.1 in /usr/local/lib/python3.7/site-packages (from notebook->jupyter) (4.3.3)',\n",
       " 'Requirement already satisfied: jinja2 in /usr/local/lib/python3.7/site-packages (from notebook->jupyter) (2.11.2)',\n",
       " 'Requirement already satisfied: prometheus-client in /usr/local/lib/python3.7/site-packages (from notebook->jupyter) (0.7.1)',\n",
       " 'Requirement already satisfied: ipython-genutils in /usr/local/lib/python3.7/site-packages (from notebook->jupyter) (0.2.0)',\n",
       " 'Requirement already satisfied: jupyter-client>=5.3.4 in /usr/local/lib/python3.7/site-packages (from notebook->jupyter) (6.1.3)',\n",
       " 'Requirement already satisfied: nbformat in /usr/local/lib/python3.7/site-packages (from notebook->jupyter) (5.0.5)',\n",
       " 'Requirement already satisfied: Send2Trash in /usr/local/lib/python3.7/site-packages (from notebook->jupyter) (1.5.0)',\n",
       " 'Requirement already satisfied: pyzmq>=17 in /usr/local/lib/python3.7/site-packages (from notebook->jupyter) (19.0.0)',\n",
       " 'Requirement already satisfied: terminado>=0.8.1 in /usr/local/lib/python3.7/site-packages (from notebook->jupyter) (0.8.3)',\n",
       " 'Requirement already satisfied: tornado>=5.0 in /usr/local/lib/python3.7/site-packages (from notebook->jupyter) (6.0.4)',\n",
       " 'Requirement already satisfied: prompt-toolkit!=3.0.0,!=3.0.1,<3.1.0,>=2.0.0 in /usr/local/lib/python3.7/site-packages (from jupyter-console->jupyter) (3.0.5)',\n",
       " 'Requirement already satisfied: pygments in /usr/local/lib/python3.7/site-packages (from jupyter-console->jupyter) (2.6.1)',\n",
       " 'Requirement already satisfied: ipython in /usr/local/lib/python3.7/site-packages (from jupyter-console->jupyter) (7.13.0)',\n",
       " 'Requirement already satisfied: qtpy in /usr/local/lib/python3.7/site-packages (from qtconsole->jupyter) (1.9.0)',\n",
       " 'Requirement already satisfied: widgetsnbextension~=3.5.0 in /usr/local/lib/python3.7/site-packages (from ipywidgets->jupyter) (3.5.1)',\n",
       " 'Requirement already satisfied: appnope; platform_system == \"Darwin\" in /usr/local/lib/python3.7/site-packages (from ipykernel->jupyter) (0.1.0)',\n",
       " 'Requirement already satisfied: testpath in /usr/local/lib/python3.7/site-packages (from nbconvert->jupyter) (0.4.4)',\n",
       " 'Requirement already satisfied: entrypoints>=0.2.2 in /usr/local/lib/python3.7/site-packages (from nbconvert->jupyter) (0.3)',\n",
       " 'Requirement already satisfied: bleach in /usr/local/lib/python3.7/site-packages (from nbconvert->jupyter) (3.1.4)',\n",
       " 'Requirement already satisfied: pandocfilters>=1.4.1 in /usr/local/lib/python3.7/site-packages (from nbconvert->jupyter) (1.4.2)',\n",
       " 'Requirement already satisfied: defusedxml in /usr/local/lib/python3.7/site-packages (from nbconvert->jupyter) (0.6.0)',\n",
       " 'Requirement already satisfied: mistune<2,>=0.8.1 in /usr/local/lib/python3.7/site-packages (from nbconvert->jupyter) (0.8.4)',\n",
       " 'Requirement already satisfied: six in /usr/local/lib/python3.7/site-packages (from traitlets>=4.2.1->notebook->jupyter) (1.13.0)',\n",
       " 'Requirement already satisfied: decorator in /usr/local/lib/python3.7/site-packages (from traitlets>=4.2.1->notebook->jupyter) (4.4.2)',\n",
       " 'Requirement already satisfied: MarkupSafe>=0.23 in /usr/local/lib/python3.7/site-packages (from jinja2->notebook->jupyter) (1.1.1)',\n",
       " 'Requirement already satisfied: python-dateutil>=2.1 in /usr/local/lib/python3.7/site-packages (from jupyter-client>=5.3.4->notebook->jupyter) (2.8.1)',\n",
       " 'Requirement already satisfied: jsonschema!=2.5.0,>=2.4 in /usr/local/lib/python3.7/site-packages (from nbformat->notebook->jupyter) (3.2.0)',\n",
       " 'Requirement already satisfied: ptyprocess; os_name != \"nt\" in /usr/local/lib/python3.7/site-packages (from terminado>=0.8.1->notebook->jupyter) (0.6.0)',\n",
       " 'Requirement already satisfied: wcwidth in /usr/local/lib/python3.7/site-packages (from prompt-toolkit!=3.0.0,!=3.0.1,<3.1.0,>=2.0.0->jupyter-console->jupyter) (0.1.9)',\n",
       " 'Requirement already satisfied: jedi>=0.10 in /usr/local/lib/python3.7/site-packages (from ipython->jupyter-console->jupyter) (0.17.0)',\n",
       " 'Requirement already satisfied: pickleshare in /usr/local/lib/python3.7/site-packages (from ipython->jupyter-console->jupyter) (0.7.5)',\n",
       " 'Requirement already satisfied: backcall in /usr/local/lib/python3.7/site-packages (from ipython->jupyter-console->jupyter) (0.1.0)',\n",
       " 'Requirement already satisfied: setuptools>=18.5 in /usr/local/lib/python3.7/site-packages (from ipython->jupyter-console->jupyter) (46.0.0)',\n",
       " 'Requirement already satisfied: pexpect; sys_platform != \"win32\" in /usr/local/lib/python3.7/site-packages (from ipython->jupyter-console->jupyter) (4.8.0)',\n",
       " 'Requirement already satisfied: webencodings in /usr/local/lib/python3.7/site-packages (from bleach->nbconvert->jupyter) (0.5.1)',\n",
       " 'Requirement already satisfied: attrs>=17.4.0 in /usr/local/lib/python3.7/site-packages (from jsonschema!=2.5.0,>=2.4->nbformat->notebook->jupyter) (19.3.0)',\n",
       " 'Requirement already satisfied: importlib-metadata; python_version < \"3.8\" in /usr/local/lib/python3.7/site-packages (from jsonschema!=2.5.0,>=2.4->nbformat->notebook->jupyter) (1.6.0)',\n",
       " 'Requirement already satisfied: pyrsistent>=0.14.0 in /usr/local/lib/python3.7/site-packages (from jsonschema!=2.5.0,>=2.4->nbformat->notebook->jupyter) (0.16.0)',\n",
       " 'Requirement already satisfied: parso>=0.7.0 in /usr/local/lib/python3.7/site-packages (from jedi>=0.10->ipython->jupyter-console->jupyter) (0.7.0)',\n",
       " 'Requirement already satisfied: zipp>=0.5 in /usr/local/lib/python3.7/site-packages (from importlib-metadata; python_version < \"3.8\"->jsonschema!=2.5.0,>=2.4->nbformat->notebook->jupyter) (3.1.0)']"
      ]
     },
     "execution_count": 5,
     "metadata": {},
     "output_type": "execute_result"
    }
   ],
   "source": [
    "%system pip3 install jupyter"
   ]
  },
  {
   "cell_type": "code",
   "execution_count": null,
   "metadata": {},
   "outputs": [],
   "source": []
  }
 ],
 "metadata": {
  "kernelspec": {
   "display_name": "Python 3",
   "language": "python",
   "name": "python3"
  },
  "language_info": {
   "codemirror_mode": {
    "name": "ipython",
    "version": 3
   },
   "file_extension": ".py",
   "mimetype": "text/x-python",
   "name": "python",
   "nbconvert_exporter": "python",
   "pygments_lexer": "ipython3",
   "version": "3.7.7"
  }
 },
 "nbformat": 4,
 "nbformat_minor": 4
}
